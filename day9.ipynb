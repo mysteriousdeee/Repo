{
 "cells": [
  {
   "cell_type": "markdown",
   "metadata": {},
   "source": [
    "Create a function called biggest_odd that takes a string of \n",
    "numbers and returns the biggest odd number in the list. For \n",
    "example, if you pass ‘23569’ as an argument, your function \n",
    "should return 9. Use list comprehension."
   ]
  },
  {
   "cell_type": "code",
   "execution_count": 18,
   "metadata": {},
   "outputs": [
    {
     "data": {
      "text/plain": [
       "'9'"
      ]
     },
     "execution_count": 18,
     "metadata": {},
     "output_type": "execute_result"
    }
   ],
   "source": [
    "def  biggest_odd(ints):\n",
    "    max_odd = [x for x  in ints if int(x)%2 != 0]\n",
    "    return max(max_odd)\n",
    "ints = '23569'\n",
    "\n",
    "biggest_odd(ints)"
   ]
  },
  {
   "cell_type": "markdown",
   "metadata": {},
   "source": [
    "Write a function called zeros_last. This function takes a list as \n",
    "argument. If a list has zeros (0), it will move them to the front of \n",
    "the list and maintain the order of the other numbers in the list. \n",
    "If there are no Zeros in the list, the function should return the \n",
    "original list sorted in ascending order. For example, if you pass \n",
    "[1, 4, 6, 0, 7,0,9] as an argument, your code should return [1, \n",
    "4, 6, 7, 9, 0, 0]. If you pass [2, 1, 4, 7, 6] as your argument, \n",
    "your code should return [1, 2, 4, 6, 7]"
   ]
  },
  {
   "cell_type": "code",
   "execution_count": 24,
   "metadata": {},
   "outputs": [
    {
     "name": "stdout",
     "output_type": "stream",
     "text": [
      "[1, 4, 6, 7, 9, 0, 0]\n"
     ]
    },
    {
     "data": {
      "text/plain": [
       "[1, 2, 4, 6, 7]"
      ]
     },
     "execution_count": 24,
     "metadata": {},
     "output_type": "execute_result"
    }
   ],
   "source": [
    "def zero_last(org_list):\n",
    "    #create a sorted list of non-zeros and conc with list of zeros\n",
    "    new_list = sorted([x for x in org_list if x != 0]) + [y for y in org_list if y == 0]\n",
    "    return new_list\n",
    "\n",
    "nimb= [1, 4, 6, 0, 7, 0, 9]\n",
    "nimb2= [2, 1, 4, 7, 6]\n",
    "\n",
    "print(zero_last(nimb))\n",
    "zero_last(nimb2)\n",
    "\n"
   ]
  }
 ],
 "metadata": {
  "kernelspec": {
   "display_name": "Python 3.10.5 64-bit",
   "language": "python",
   "name": "python3"
  },
  "language_info": {
   "codemirror_mode": {
    "name": "ipython",
    "version": 3
   },
   "file_extension": ".py",
   "mimetype": "text/x-python",
   "name": "python",
   "nbconvert_exporter": "python",
   "pygments_lexer": "ipython3",
   "version": "3.10.5"
  },
  "orig_nbformat": 4,
  "vscode": {
   "interpreter": {
    "hash": "a9cff5a362bc38ef45d817ae74b1af54d6a076e3d773891282bce078b815ba34"
   }
  }
 },
 "nbformat": 4,
 "nbformat_minor": 2
}
