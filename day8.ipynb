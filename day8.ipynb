{
 "cells": [
  {
   "cell_type": "markdown",
   "metadata": {},
   "source": [
    "Write a function called odd_even that has one parameter and\n",
    "takes a list of numbers as an argument. The function returns the \n",
    "difference between the largest even number in the list and the \n",
    "smallest odd number in the list. For example, if you pass \n",
    "[1,2,4,6] as an argument the function should return 6 -1= 5.\n"
   ]
  },
  {
   "cell_type": "code",
   "execution_count": null,
   "metadata": {},
   "outputs": [],
   "source": [
    "def odd_even(list):\n",
    "    #iterate over list checking for even numbers and store the max of it\n",
    "    max_even = max([x for x in list if x%2 ==0])\n",
    "\n",
    "    #iterate over list checking for odd numbers and store the min of it\n",
    "    max_odd = min([y for y in list if y%2 !=0])\n",
    "\n",
    "    #return the difference\n",
    "    return max_even - max_odd\n",
    "    \n",
    "list = [5,2,3,4,6]\n",
    "odd_even(list)"
   ]
  },
  {
   "cell_type": "markdown",
   "metadata": {},
   "source": [
    "Write a function called prime_numbers. This function asks a \n",
    "user to enter a number (integer) as an argument and returns a \n",
    "list of all the prime numbers within its range. For example, if user \n",
    "enters 10, your code should return [2, 3, 5, 7] as prime numbers.\n"
   ]
  },
  {
   "cell_type": "code",
   "execution_count": 32,
   "metadata": {},
   "outputs": [
    {
     "name": "stdout",
     "output_type": "stream",
     "text": [
      "2\n",
      "3\n",
      "5\n",
      "7\n"
     ]
    }
   ],
   "source": [
    "\n",
    "def prime_numbers(numbs):\n",
    "    for numbers in range(2, numbs):\n",
    "        prime = True\n",
    "        for i in range(2, numbers):\n",
    "            if numbers%i == 0:\n",
    "                prime = False\n",
    "        if prime:\n",
    "            print(numbers)\n",
    "numbs = int(input(\"enter a number: \"))\n",
    "prime_numbers(numbs)"
   ]
  }
 ],
 "metadata": {
  "kernelspec": {
   "display_name": "Python 3.10.5 64-bit",
   "language": "python",
   "name": "python3"
  },
  "language_info": {
   "codemirror_mode": {
    "name": "ipython",
    "version": 3
   },
   "file_extension": ".py",
   "mimetype": "text/x-python",
   "name": "python",
   "nbconvert_exporter": "python",
   "pygments_lexer": "ipython3",
   "version": "3.10.5"
  },
  "orig_nbformat": 4,
  "vscode": {
   "interpreter": {
    "hash": "a9cff5a362bc38ef45d817ae74b1af54d6a076e3d773891282bce078b815ba34"
   }
  }
 },
 "nbformat": 4,
 "nbformat_minor": 2
}
