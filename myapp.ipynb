{
 "cells": [
  {
   "cell_type": "code",
   "execution_count": null,
   "metadata": {},
   "outputs": [],
   "source": [
    "import csv\n",
    "import json\n",
    "from xml.etree import ElementTree as et\n",
    "from pony.orm import Database, db_session, get, select, Required, PrimaryKey, flush"
   ]
  },
  {
   "cell_type": "code",
   "execution_count": null,
   "metadata": {},
   "outputs": [],
   "source": [
    "#create a function to read any xml file\n",
    "def read_xml(filename):\n",
    "    #using the ElementTree library, parse the xml data into a variable\n",
    "    xml_tree = et.parse(filename) \n",
    "    #get the root element of the XML tree\n",
    "    root = xml_tree.getroot() \n",
    "    #extracts the attributes of each element in the root of the XML tree\n",
    "    data = [values.attrib for values in root] \n",
    "    return data\n",
    "xml_data = read_xml('user_data.xml')"
   ]
  },
  {
   "cell_type": "code",
   "execution_count": null,
   "metadata": {},
   "outputs": [],
   "source": [
    "#create a function to read any csv file\n",
    "def csv_reader(filename):\n",
    "    with open(filename, mode ='r') as csv_file:\n",
    "        # read the csv data into the set variable utilizing the csv library\n",
    "        users_csv_file = csv.DictReader(csv_file, delimiter= ',')  \n",
    "        data = [elements for elements in users_csv_file]\n",
    "    return data\n",
    "csv_data = csv_reader('user_data.csv')"
   ]
  },
  {
   "cell_type": "code",
   "execution_count": null,
   "metadata": {},
   "outputs": [],
   "source": [
    "#create a function to read any json file\n",
    "def load_json(filename):\n",
    "    with open(filename) as json_file:\n",
    "        #use json load atrribute to load json data\n",
    "        data = json.load(json_file)   \n",
    "    return data\n",
    "json_data  = load_json('user_data.json')"
   ]
  },
  {
   "cell_type": "code",
   "execution_count": null,
   "metadata": {},
   "outputs": [],
   "source": [
    "\n",
    "csv_dict = []\n",
    "for rows in csv_data:  \n",
    "    #create a dictionary for each row. map the keys to the corresponding values \n",
    "    csv_dic = {      \n",
    "        'firstname': rows['First Name'],\n",
    "        'lastname': rows['Second Name'],\n",
    "        'age': rows['Age (Years)'],\n",
    "        'sex': rows['Sex'],\n",
    "        'vehiclemake': rows['Vehicle Make'],\n",
    "        'vehiclemodel': rows['Vehicle Model'],\n",
    "        'vehicleyear': rows['Vehicle Year'],\n",
    "        'vehicletype': rows['Vehicle Type']       \n",
    "        }\n",
    "    csv_dict.append(csv_dic)   #append the dictionary to the csv_dict list as the loop runs through"
   ]
  },
  {
   "cell_type": "code",
   "execution_count": null,
   "metadata": {},
   "outputs": [],
   "source": [
    "xml_dict = []\n",
    "for rows in xml_data:   #iterate over the rows of data \n",
    "    \n",
    "    #fix empty dependants observed from try error @db insert\n",
    "        rows['dependants'] = int(rows['dependants']) if rows['dependants'] else 0\n",
    "        #create a dictionary for each row. map the keys to the corresponding values\n",
    "        xml_dic = {     \n",
    "            'firstname': rows['firstName'],\n",
    "            'lastname': rows['lastName'],\n",
    "            'age': rows['age'],\n",
    "            'dependants': rows['dependants'],\n",
    "            'marital_status': rows['marital_status'],\n",
    "            'salary': rows['salary'],\n",
    "            'company': rows['company'],\n",
    "            'pension': rows['pension'],\n",
    "            'address_postcode': rows['address_postcode'],\n",
    "            'sex': rows['sex'],\n",
    "            'commute_distance': rows['commute_distance'],\n",
    "            'retired': rows['retired']                    \n",
    "            }\n",
    "        xml_dict.append(xml_dic)    #append the dictionary to the xml_dict list as the loop runs through"
   ]
  },
  {
   "cell_type": "code",
   "execution_count": null,
   "metadata": {},
   "outputs": [],
   "source": [
    "json_dict = []\n",
    "for rows in json_data:\n",
    "        try:\n",
    "            if not type(rows['debt']) is float:\n",
    "                     raise TypeError('only floats allowed')\n",
    "            json_dict.append(rows)\n",
    "        except KeyError: \n",
    "#             print('some keys are absent')\n",
    "            pass\n",
    "        except Exception as errs: \n",
    "#             print(errs)\n",
    "            pass\n",
    "\n",
    "        #get values for debt, if None, create a new dic with values, for the str conver them to dic and create time_period_years. \n",
    "        debt = rows.get('debt',{'amount':0,'time_period_years':0})\n",
    "        if type(debt) != dict:\n",
    "            debt = {'amount':float(debt),'time_period_years':0}\n",
    "        rows['debt'] = debt\n",
    "      \n",
    "        #create a dictionary for each row. map the keys to the corresponding values        \n",
    "        json_dic = {\n",
    "                'firstname': rows['firstName'],\n",
    "                'lastname': rows['lastName'],\n",
    "                'age': rows['age'],\n",
    "                'address_main': rows['address_main'],\n",
    "                'credit_card_end_date': rows['credit_card_end_date'],\n",
    "                'debt': rows['debt']['amount'],\n",
    "                'time_period_years': rows['debt']['time_period_years'],\n",
    "                'iban': rows['iban'],\n",
    "                'address_postcode': rows['address_postcode'],\n",
    "                'credit_card_number': rows['credit_card_number'],\n",
    "                'credit_card_start_date': rows['credit_card_start_date'],\n",
    "                'credit_card_security_code': rows['credit_card_security_code'],\n",
    "                'address_city': rows['address_city']                    \n",
    "                }\n",
    "\n",
    "        json_dict.append(json_dic)"
   ]
  },
  {
   "cell_type": "code",
   "execution_count": null,
   "metadata": {},
   "outputs": [],
   "source": [
    "combined_dict = csv_dict.copy() \n",
    "\n",
    "# function to check if the current item in the xml_dict or json_dict already exists in the combined_dict\n",
    "def check_data(mainlist, nxt_list):\n",
    "    for i in range(0, len(mainlist)):\n",
    "        if mainlist[i].get('firstname') == nxt_list.get('firstname') and mainlist[i].get('lastname') == nxt_list.get('lastname') and str(mainlist[i].get('age')) == str(nxt_list.get('age')):\n",
    "            return i\n",
    "    return -1\n"
   ]
  },
  {
   "cell_type": "code",
   "execution_count": null,
   "metadata": {},
   "outputs": [],
   "source": [
    "# iterate over json_dict and update or append items to combined_dict\n",
    "for items in json_dict:\n",
    "    #return the index position\n",
    "    index = check_data(combined_dict, items)\n",
    "    #for the index position, update the fields from the json_dict dictionary\n",
    "    if index != -1:\n",
    "        combined_dict[index].update(items)\n",
    "        \n",
    "    else:\n",
    "        combined_dict.append(items)"
   ]
  },
  {
   "cell_type": "code",
   "execution_count": null,
   "metadata": {},
   "outputs": [],
   "source": [
    "\n",
    "# iterate over xml_dict and update or append items to combined_dict\n",
    "for item in xml_dict:\n",
    "    # check if the current item already exists in the combined_dict and return the index\n",
    "    index = check_data(combined_dict, item)\n",
    "    # if the item already exists, update the matched item\n",
    "    if index != -1:\n",
    "        combined_dict[index].update(item)\n",
    "    # if the item does not exist, append the item to the combined_dict\n",
    "    else:\n",
    "        combined_dict.append(item)\n",
    "#sort dictionary\n",
    "combined_dict.sort(key=lambda x: (x['firstname'], x['lastname']))"
   ]
  },
  {
   "cell_type": "code",
   "execution_count": null,
   "metadata": {},
   "outputs": [],
   "source": [
    "# setup database connection using PonyORM\n",
    "db = Database()\n",
    "db.bind(provider='mysql', host='europa.ashley.work', user='student_xxxxx', passwd='xxxxxxx', db='student_xxxxx')\n"
   ]
  },
  {
   "cell_type": "code",
   "execution_count": null,
   "metadata": {},
   "outputs": [],
   "source": [
    "# define class as db entity, table structure, set decorators and schema\n",
    "class Customers(db.Entity):\n",
    "    id = PrimaryKey(int, auto=True)\n",
    "    firstname = Required(str)\n",
    "    lastname = Required(str)\n",
    "    age = Required(int)\n",
    "\n",
    "    sex = Required(str)\n",
    "    marital_status = Required(str)\n",
    "    salary = Required(float)\n",
    "    company = Required(str)\n",
    "    commute_distance = Required(float)\n",
    "    pension = Required(float)\n",
    "    retired = Required(str)\n",
    "    dependants = Required(int)\n",
    "    vehiclemake = Required(str)\n",
    "    vehiclemodel = Required(str)\n",
    "    vehicleyear = Required(int)\n",
    "    vehicletype = Required(str)\n",
    "    iban = Required(str)\n",
    "    debt = Required(float)\n",
    "    time_period_years = Required(int)\n",
    "    credit_card_number = Required(str)\n",
    "    credit_card_start_date = Required(str)\n",
    "    credit_card_end_date = Required(str)\n",
    "    credit_card_security_code = Required(int)\n",
    "    address_main = Required(str)\n",
    "    address_city = Required(str)\n",
    "    address_postcode = Required(str)\n",
    "\n",
    "db.generate_mapping(create_tables=True)\n"
   ]
  },
  {
   "cell_type": "code",
   "execution_count": null,
   "metadata": {},
   "outputs": [],
   "source": [
    "#delete existing receords seen in db\n",
    "with db_session:\n",
    "    Customers.select().delete()"
   ]
  },
  {
   "cell_type": "code",
   "execution_count": null,
   "metadata": {},
   "outputs": [],
   "source": [
    "#inserting the field and records into the DB\n",
    "with db_session:\n",
    "    for item in combined_dict:\n",
    "        try:\n",
    "            db.insert(Customers, firstname=item['firstname'], lastname=item['lastname'], age=item['age'], sex=item['sex'], marital_status=item['marital_status'], salary=item['salary'], company=item['company'], commute_distance=item['commute_distance'], pension=item['pension'], retired=item['retired'], dependants=item['dependants'], vehiclemake=item['vehiclemake'], vehiclemodel=item['vehiclemodel'], vehicleyear=item['vehicleyear'], vehicletype=item['vehicletype'], iban=item['iban'], credit_card_number=item['credit_card_number'], credit_card_security_code=item['credit_card_security_code'], credit_card_start_date=item['credit_card_start_date'], credit_card_end_date=item['credit_card_end_date'], address_main=item['address_main'], address_city=item['address_city'], address_postcode=item['address_postcode'], debt=item['debt'], time_period_years=item['time_period_years']) \n",
    "        except Exception as db_err: print(db_err)"
   ]
  },
  {
   "cell_type": "markdown",
   "metadata": {},
   "source": [
    "Task1 \"Shane Chambers e-mailed in overnight (Full details in Ticket #1839). During account creation something went wrong and their security code is wrong on their billing information. Bank is rejecting any payment until it's corrected. They're not sure what happened, but said to try \"935\". Can you please action this and try re-bill the client? Let me know if there's any further issues with it. Thanks\""
   ]
  },
  {
   "cell_type": "code",
   "execution_count": null,
   "metadata": {},
   "outputs": [],
   "source": [
    "with db_session:\n",
    "    customer = Customers.get(firstname ='Shane', lastname ='Chambers')   #select a customer with the specified 'firstname' and 'lastname'\n",
    "    print(customer.firstname, customer.lastname, customer.credit_card_security_code)\n",
    "    customer.set(credit_card_security_code = '935')\n",
    "    print(customer.firstname, 'new security code is:', customer.credit_card_security_code)\n",
    "    flush()\n",
    "    print('Shane Chambers security code has been corrected accordingly')\n"
   ]
  },
  {
   "cell_type": "markdown",
   "metadata": {},
   "source": [
    "Task2 \"Congratulations on the promotion Lane! We wouldn't have survived through the pandemic without you and your team. As a token of our appreciation, we've given you a £2100 salary bump. This will take effect as of next month's payroll. At Lewis-Johnson we value the care and work you put in. See you on Monday Joshua, enjoy!\""
   ]
  },
  {
   "cell_type": "code",
   "execution_count": null,
   "metadata": {},
   "outputs": [],
   "source": [
    "# The goal of this task is to increase the salary of Lane by £2100 due to promotion.\n",
    "# get a Lane, or a Joshua or a Joshua lane that works with Lewis-Johnson\n",
    "\n",
    "with db_session:\n",
    "    customers = select(c for c in Customers if c.firstname == 'lane' or c.lastname.lower() =='lane' and c.company == 'Lewis-Johnson')\n",
    "    for c in customers:\n",
    "        print( f'name: {c.firstname} {c.lastname} | company: {c.company} | salary: {c.salary}')\n"
   ]
  },
  {
   "cell_type": "code",
   "execution_count": null,
   "metadata": {},
   "outputs": [],
   "source": [
    "# from the result \n",
    "# name: Joshua Lane | company: Lewis-Johnson | salary: 97949.0\n",
    "# name: Dorothy Lane | company: Wong, Rose and Johnston | salary: 84421.0\n",
    "\n",
    "# Joshua Lane is the target since he is the \"Lane\" that works with Lewis-Johnson\n",
    "\n",
    "with db_session:\n",
    "    c = Customers.get(firstname= 'Joshua', lastname = 'Lane', company = 'Lewis-Johnson')\n",
    "    print(c.firstname, c.lastname, ', works for', c.company)\n",
    "    c.salary += 2100\n",
    "    flush()\n",
    "print(c.lastname, 'salary updated to:', c.salary)"
   ]
  },
  {
   "cell_type": "markdown",
   "metadata": {},
   "source": [
    "Task3 \"Happy Birthday Ms Suzanne Wright! You're 37 today. Our latest offers will be sure to get you into the party spirit!\""
   ]
  },
  {
   "cell_type": "code",
   "execution_count": null,
   "metadata": {
    "scrolled": true
   },
   "outputs": [],
   "source": [
    "with db_session:\n",
    "    c = Customers.get(firstname='Suzanne', lastname='Wright')\n",
    "    c.age = 37\n",
    "    flush()\n",
    "print('The age of ', c.firstname + \" \" + c.lastname, ' has been updated to ', c.age)"
   ]
  },
  {
   "cell_type": "markdown",
   "metadata": {},
   "source": [
    "Task 4 \"Hannah, the pension policy has changed slightly since the meeting last week. I know you've just finished putting through all the changes, but I need you to look at Mr Dunn's file. We'll need to  modify it by adding another 0.15% on top of the existing £22358. Drop me a message when you've done this please, it's quite urgent.\""
   ]
  },
  {
   "cell_type": "code",
   "execution_count": null,
   "metadata": {},
   "outputs": [],
   "source": [
    "with db_session:\n",
    "    # find a customer with first or last name  Dunn and pension 22391.537\n",
    "    #after updating the pension, the and pension condition has to be removed\n",
    "    customer2 = select(c for c in Customers if c.firstname == 'Dunn' or c.lastname == 'Dunn' and c.pension == 22358.0) \n",
    "    for c in customer2:\n",
    "        print(c.firstname, c.lastname, c.pension)\n",
    "    flush()"
   ]
  },
  {
   "cell_type": "code",
   "execution_count": null,
   "metadata": {},
   "outputs": [],
   "source": [
    "with db_session:\n",
    "    \n",
    "    c = Customers.get(firstname='Kyle', lastname ='Dunn')\n",
    "    c.pension = c.pension * (1 + 0.15/100)\n",
    "    print(c.firstname, c.lastname, ' pension modified by 0.15% to ', c.pension)\n",
    "    flush()"
   ]
  }
 ],
 "metadata": {
  "kernelspec": {
   "display_name": "Python 3 (ipykernel)",
   "language": "python",
   "name": "python3"
  },
  "language_info": {
   "codemirror_mode": {
    "name": "ipython",
    "version": 3
   },
   "file_extension": ".py",
   "mimetype": "text/x-python",
   "name": "python",
   "nbconvert_exporter": "python",
   "pygments_lexer": "ipython3",
   "version": "3.9.7"
  },
  "vscode": {
   "interpreter": {
    "hash": "c347c8f9a7ef94e4c9e03b4513be7835ed18f45b99a2a817fb579f408b867b16"
   }
  }
 },
 "nbformat": 4,
 "nbformat_minor": 2
}
