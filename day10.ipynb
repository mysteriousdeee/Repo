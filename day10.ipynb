{
 "cells": [
  {
   "cell_type": "markdown",
   "metadata": {},
   "source": [
    "Write a function called hide_password that takes no \n",
    "parameters. The function takes an input (a password) from a \n",
    "user and returns a hidden password. For example, if the user \n",
    "enters ‘hello’ as a password the function should return ‘****’ as \n",
    "a password and tell the user that the password is 4 characters\n",
    "long."
   ]
  },
  {
   "cell_type": "code",
   "execution_count": 5,
   "metadata": {},
   "outputs": [
    {
     "data": {
      "text/plain": [
       "'Your password is *** and is 3 characters long'"
      ]
     },
     "execution_count": 5,
     "metadata": {},
     "output_type": "execute_result"
    }
   ],
   "source": [
    "password = input(\"write your password: \")\n",
    "\n",
    "def hide_passwords():\n",
    "    #replace user input with '*' and multiple by length of input\n",
    "    asterisk = '*' * len(password)\n",
    "    \n",
    "    hidden_password_len = f\"Your password is {asterisk} and is {len(password)} characters long\"\n",
    "    return hidden_password_len\n",
    "\n",
    "hide_passwords()"
   ]
  },
  {
   "cell_type": "markdown",
   "metadata": {},
   "source": [
    "A Thousand Separator\n",
    "Your new company has a list of figures saved in a list. The issue \n",
    "is that these numbers have no separator. The numbers are \n",
    "saved in the following format:\n",
    "[1000000, 2356989, 2354672, 9878098].\n",
    "You have been asked to write a code that will convert each of the \n",
    "numbers in the list into a string. Your code should then add a \n",
    "comma on each number as a thousand separator for \n",
    "readability. When you run your code on the above list, your \n",
    "output should be:\n",
    "[ '1,000,000', '2,356,989', '2,354,672', '9,878,098’]\n",
    "Write a function called convert_numbers that will take one \n",
    "argument, a list of numbers above.\n"
   ]
  },
  {
   "cell_type": "code",
   "execution_count": 28,
   "metadata": {},
   "outputs": [
    {
     "data": {
      "text/plain": [
       "['1,000,000', '2,356,989', '2,354,672', '9,878,098']"
      ]
     },
     "execution_count": 28,
     "metadata": {},
     "output_type": "execute_result"
    }
   ],
   "source": [
    "def convert_numbers(separator):\n",
    " \n",
    "    thousand = [\"{0:,d}\".format(x) for x in separator]\n",
    "    return thousand\n",
    "\n",
    "separator = [1000000, 2356989, 2354672, 9878098]\n",
    "convert_numbers(separator)"
   ]
  }
 ],
 "metadata": {
  "kernelspec": {
   "display_name": "Python 3.10.5 64-bit",
   "language": "python",
   "name": "python3"
  },
  "language_info": {
   "codemirror_mode": {
    "name": "ipython",
    "version": 3
   },
   "file_extension": ".py",
   "mimetype": "text/x-python",
   "name": "python",
   "nbconvert_exporter": "python",
   "pygments_lexer": "ipython3",
   "version": "3.10.5"
  },
  "orig_nbformat": 4,
  "vscode": {
   "interpreter": {
    "hash": "a9cff5a362bc38ef45d817ae74b1af54d6a076e3d773891282bce078b815ba34"
   }
  }
 },
 "nbformat": 4,
 "nbformat_minor": 2
}
