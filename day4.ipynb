{
 "cells": [
  {
   "cell_type": "markdown",
   "metadata": {},
   "source": [
    "Write a function called only_floats, which takes two \n",
    "parameters a and b, and returns 2 if both arguments are floats,\n",
    "returns 1 if only one argument is a float, and returns 0 if neither \n",
    "argument is a float. If you pass (12.1, 23) as an argument, your \n",
    "function should return a 1"
   ]
  },
  {
   "cell_type": "code",
   "execution_count": null,
   "metadata": {},
   "outputs": [],
   "source": [
    "def only_float(a,b):\n",
    "    if a%1 and b%2 != 1:\n",
    "        return print(2)\n",
    "    elif a%1 or b%1 != 0:\n",
    "        return print(1)\n",
    "    else:\n",
    "        return print(0)\n",
    "\n",
    "a = 12.1\n",
    "b = 23\n",
    "\n",
    "only_float(a,b)\n",
    "print(type(a))"
   ]
  },
  {
   "cell_type": "markdown",
   "metadata": {},
   "source": [
    "Write a function called word_index that takes one argument, \n",
    "a list of strings and returns the index of the longest word in the \n",
    "list. If there is no longest word (if all the strings are of the same \n",
    "length), the function should return zero (0). For example, the list \n",
    "below should return 2.\n",
    "words1 = [\"Hate\", \"remorse\", \"vengeance\"]\n",
    " And this list below, shoul return zero (0)\n",
    "words2 = [\"Love\", \"Hate\"]"
   ]
  },
  {
   "cell_type": "code",
   "execution_count": null,
   "metadata": {},
   "outputs": [],
   "source": [
    "def word_index(list_of_strings):\n",
    "    max_val = max(list_of_strings)\n",
    "    index_max = list_of_strings.index(max_val)\n",
    "    return index_max\n",
    "\n",
    "words1 = [\"Hate\", \"remorse\", \"vengeance\"]\n",
    "words2 = [\"Love\", \"Hate\"]\n",
    "\n",
    "word_index(words2)"
   ]
  }
 ],
 "metadata": {
  "kernelspec": {
   "display_name": "Python 3.10.5 64-bit",
   "language": "python",
   "name": "python3"
  },
  "language_info": {
   "codemirror_mode": {
    "name": "ipython",
    "version": 3
   },
   "file_extension": ".py",
   "mimetype": "text/x-python",
   "name": "python",
   "nbconvert_exporter": "python",
   "pygments_lexer": "ipython3",
   "version": "3.10.5"
  },
  "orig_nbformat": 4,
  "vscode": {
   "interpreter": {
    "hash": "a9cff5a362bc38ef45d817ae74b1af54d6a076e3d773891282bce078b815ba34"
   }
  }
 },
 "nbformat": 4,
 "nbformat_minor": 2
}
