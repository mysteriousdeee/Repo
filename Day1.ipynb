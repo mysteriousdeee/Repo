{
 "cells": [
  {
   "cell_type": "markdown",
   "metadata": {},
   "source": [
    "Day 1: Write a function called divide_or_square that takes one \n",
    "argument (a number), and returns the square root of the number \n",
    "if it is divisible by 5, returns its remainder if it is not divisible by \n",
    "5. For example, if you pass 10 as an argument, then your function \n",
    "should return 3.16 as the square root."
   ]
  },
  {
   "cell_type": "code",
   "execution_count": null,
   "metadata": {},
   "outputs": [],
   "source": [
    "from math import sqrt     #import sqrt attribute of math\n",
    "def divide_or_square(number):\n",
    "    if number%5 == 0:   #check if the number has a remainder when divided by 5\n",
    "        return round(sqrt(number),2)    #return square root of number if divisible by 5\n",
    "    else:\n",
    "        return \"number is not divisible by 5\"\n",
    "x = int(input(\"enter a number: \"))  #take user input and convert to integer\n",
    "divide_or_square(x) "
   ]
  },
  {
   "cell_type": "markdown",
   "metadata": {},
   "source": [
    "Write a function called longest_value that takes a dictionary \n",
    "as an argument and returns the first longest value of the \n",
    "dictionary. For example, the following dictionary should return \n",
    "– apple as the longest value.\n",
    "fruits = {'fruit': 'apple', 'color': 'green'}"
   ]
  },
  {
   "cell_type": "code",
   "execution_count": null,
   "metadata": {},
   "outputs": [],
   "source": [
    "def longest_value(fruits):\n",
    "    longest = ''\n",
    "    for items in fruits.values():\n",
    "        if len(items) > len(longest):\n",
    "            longest = items\n",
    "    return longest\n",
    "\n",
    "fruits = {'fruit': 'apple', 'color': 'green'}\n",
    "print('The longest string is: ', longest_value(fruits))"
   ]
  }
 ],
 "metadata": {
  "kernelspec": {
   "display_name": "Python 3.10.5 64-bit",
   "language": "python",
   "name": "python3"
  },
  "language_info": {
   "codemirror_mode": {
    "name": "ipython",
    "version": 3
   },
   "file_extension": ".py",
   "mimetype": "text/x-python",
   "name": "python",
   "nbconvert_exporter": "python",
   "pygments_lexer": "ipython3",
   "version": "3.10.5"
  },
  "orig_nbformat": 4,
  "vscode": {
   "interpreter": {
    "hash": "a9cff5a362bc38ef45d817ae74b1af54d6a076e3d773891282bce078b815ba34"
   }
  }
 },
 "nbformat": 4,
 "nbformat_minor": 2
}
