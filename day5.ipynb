{
 "cells": [
  {
   "cell_type": "markdown",
   "metadata": {},
   "source": [
    "Create a function called my_discount. The function takes no \n",
    "arguments but asks the user to input the price and the \n",
    "discount (percentage) of the product. Once the user inputs the \n",
    "price and discount, it calculates the price after the discount. \n",
    "The function should return the price after the discount. For \n",
    "example, if the user enters 150 as price and 15% as the discount, \n",
    "your function should return 127.5."
   ]
  },
  {
   "cell_type": "code",
   "execution_count": 28,
   "metadata": {},
   "outputs": [
    {
     "data": {
      "text/plain": [
       "127.5"
      ]
     },
     "execution_count": 28,
     "metadata": {},
     "output_type": "execute_result"
    }
   ],
   "source": [
    "def my_discount():\n",
    "    product_price =int(input(\"enter product price: \"))\n",
    "    discount = int(input(\"enter discount percentage: \"))\n",
    "    discounted_price = product_price - (product_price * float(discount/100))\n",
    "    return discounted_price\n",
    "my_discount()\n"
   ]
  },
  {
   "cell_type": "markdown",
   "metadata": {},
   "source": [
    "You work for a school and your boss wants to know how many \n",
    "female and male students are enrolled in the school. The school\n",
    "has saved the students in a list. Your task is to write a code that \n",
    "will count how many males and females are in the list. Here is a \n",
    "list below:\n",
    "students = ['Male', 'Female', 'female', 'male', 'male', 'male',\n",
    " 'female', 'male', 'Female', 'Male', 'Female', 'Male', 'female']\n",
    "Your code should return a list of tuples. The list above should \n",
    "return:\n",
    "[(‘Male’,7), (‘female’,6)]"
   ]
  },
  {
   "cell_type": "code",
   "execution_count": 34,
   "metadata": {},
   "outputs": [
    {
     "name": "stdout",
     "output_type": "stream",
     "text": [
      "[('male', 7), ('female', 6)]\n"
     ]
    }
   ],
   "source": [
    "student = ['Male', 'Female', 'female', 'male', 'male', 'male',\n",
    " 'female', 'male', 'Female', 'Male', 'Female', 'Male', 'female']\n",
    "\n",
    "students = [x.lower() for x in student]\n",
    "\n",
    "gender = ['male', 'female']\n",
    "m = students.count(\"male\")\n",
    "f = students.count('female')\n",
    "occurence = [m, f]\n",
    "present_students = list(zip(gender, occurence))\n",
    "\n",
    "print(present_students)\n",
    "\n"
   ]
  }
 ],
 "metadata": {
  "kernelspec": {
   "display_name": "Python 3.10.5 64-bit",
   "language": "python",
   "name": "python3"
  },
  "language_info": {
   "codemirror_mode": {
    "name": "ipython",
    "version": 3
   },
   "file_extension": ".py",
   "mimetype": "text/x-python",
   "name": "python",
   "nbconvert_exporter": "python",
   "pygments_lexer": "ipython3",
   "version": "3.10.5"
  },
  "orig_nbformat": 4,
  "vscode": {
   "interpreter": {
    "hash": "a9cff5a362bc38ef45d817ae74b1af54d6a076e3d773891282bce078b815ba34"
   }
  }
 },
 "nbformat": 4,
 "nbformat_minor": 2
}
