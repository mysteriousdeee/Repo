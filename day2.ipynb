{
 "cells": [
  {
   "cell_type": "markdown",
   "metadata": {},
   "source": [
    "Write a function called convert_add that takes a list of strings \n",
    "as an argument and converts it to integers and sums the list. For \n",
    "example [‘1’, ‘3’, ‘5’] should be converted to [1, 3, 5] and\n",
    "summed to 9."
   ]
  },
  {
   "cell_type": "code",
   "execution_count": null,
   "metadata": {},
   "outputs": [],
   "source": [
    "def convert_add(my_list):\n",
    "    list_of_strings = [int(strings) for strings in my_list] #iterate of list, convert each string to integer and store in list\n",
    "    sum_of_list = sum(list_of_strings)  #sum the integers in list\n",
    "    return sum_of_list  #return output of function\n",
    "\n",
    "my_list = ['1', '3', '5']\n",
    "list = convert_add(my_list)\n",
    "print(list)\n"
   ]
  },
  {
   "cell_type": "markdown",
   "metadata": {},
   "source": [
    "Write a function called check_duplicates that takes a list of \n",
    "strings as an argument. The function should check if the list has \n",
    "any duplicates. If there are duplicates, the function should return \n",
    "the duplicates. If there are no duplicates, the function should \n",
    "return \"No duplicates\". For example, the list of fruits below \n",
    "should return apple as a duplicate and list of names should \n",
    "return \"no duplicates\".\n",
    "fruits = ['apple', 'orange', 'banana', 'apple']\n",
    "names = ['Yoda', 'Moses', 'Joshua', 'Mark']"
   ]
  },
  {
   "cell_type": "code",
   "execution_count": 137,
   "metadata": {},
   "outputs": [
    {
     "name": "stdout",
     "output_type": "stream",
     "text": [
      "['apple', 'orange']\n",
      "[]\n"
     ]
    }
   ],
   "source": [
    "\n",
    "def check_duplicates(fruits):\n",
    "    length_list = len(fruits)\n",
    "    dup_list = []  \n",
    "    for i in range(length_list):\n",
    "        k = i + 1\n",
    "        for j in range(k, length_list):\n",
    "            if fruits[i] == fruits[j] and fruits[i] not in dup_list:\n",
    "                dup_list.append(fruits[i])\n",
    "    return dup_list\n",
    "    \n",
    "\n",
    "fruits = ['apple', 'orange', 'banana', 'apple', 'guava', \"orange\", 'mango']          \n",
    "fruit_check = check_duplicates(fruits)\n",
    "print(fruit_check)\n",
    "\n",
    "names = ['Yoda', 'Moses', 'Joshua', 'Mark']\n",
    "name_check = check_duplicates(names)\n",
    "print(name_check)\n"
   ]
  }
 ],
 "metadata": {
  "kernelspec": {
   "display_name": "Python 3.10.5 64-bit",
   "language": "python",
   "name": "python3"
  },
  "language_info": {
   "codemirror_mode": {
    "name": "ipython",
    "version": 3
   },
   "file_extension": ".py",
   "mimetype": "text/x-python",
   "name": "python",
   "nbconvert_exporter": "python",
   "pygments_lexer": "ipython3",
   "version": "3.10.5"
  },
  "orig_nbformat": 4,
  "vscode": {
   "interpreter": {
    "hash": "a9cff5a362bc38ef45d817ae74b1af54d6a076e3d773891282bce078b815ba34"
   }
  }
 },
 "nbformat": 4,
 "nbformat_minor": 2
}
