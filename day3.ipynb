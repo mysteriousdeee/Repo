{
 "cells": [
  {
   "cell_type": "markdown",
   "metadata": {},
   "source": [
    "Write a function called register_check that checks how many \n",
    "students are in school. The function takes a dictionary as a \n",
    "parameter. If the student is in school, the dictionary says ‘yes’. If \n",
    "the student is not in school, the dictionary says ‘no’. Your \n",
    "function should return the number of students in school. Use the \n",
    "dictionary below. Your function should return 3.\n",
    "register = {'Michael':'yes','John': 'no', \n",
    " 'Peter':'yes', 'Mary': 'yes'}\n"
   ]
  },
  {
   "cell_type": "code",
   "execution_count": 6,
   "metadata": {},
   "outputs": [
    {
     "data": {
      "text/plain": [
       "4"
      ]
     },
     "execution_count": 6,
     "metadata": {},
     "output_type": "execute_result"
    }
   ],
   "source": [
    "def register_check(dictionary):\n",
    "    \n",
    "    attendace_list = dict((k,v) for k, v in dictionary.values() if v == 'yes')\n",
    "    return len(attendace_list)\n",
    "\n",
    "register = {'Michael':'yes','John': 'no', \n",
    " 'Peter':'yes', 'Mary': 'yes'}\n",
    "register_check(register)\n"
   ]
  },
  {
   "cell_type": "markdown",
   "metadata": {},
   "source": [
    "method 2"
   ]
  },
  {
   "cell_type": "code",
   "execution_count": 7,
   "metadata": {},
   "outputs": [
    {
     "data": {
      "text/plain": [
       "3"
      ]
     },
     "execution_count": 7,
     "metadata": {},
     "output_type": "execute_result"
    }
   ],
   "source": [
    "def register_check(dictionary):\n",
    "    attendace_list = []\n",
    "    for v in dictionary.values():   #check for v in values\n",
    "        if v == \"yes\":\n",
    "            attendace_list.append(v)    #add value into empty list\n",
    "    return len(attendace_list)  #return the no of items in the list\n",
    "\n",
    "register = {'Michael':'yes','John': 'no', \n",
    " 'Peter':'yes', 'Mary': 'yes'}\n",
    "register_check(register)\n"
   ]
  },
  {
   "cell_type": "markdown",
   "metadata": {},
   "source": [
    "names = [\"kerry\", \"dickson\", \"John\", \"Mary\", \n",
    " \"carol\", \"Rose\", \"adam\"]\n",
    "You are given a list of names above. This list is made up of names \n",
    "of lowercase and uppercase letters. Your task is to write a code \n",
    "that will return a tuple of all the names in the list that have only\n",
    "lowercase letters. Your tuple should have names sorted \n",
    "alphabetically in descending order. Using the list above, your \n",
    "code should return:\n",
    "('kerry', 'dickson', 'carol', 'adam'"
   ]
  },
  {
   "cell_type": "code",
   "execution_count": 12,
   "metadata": {},
   "outputs": [
    {
     "data": {
      "text/plain": [
       "('kerry', 'dickson', 'carol', 'adam')"
      ]
     },
     "execution_count": 12,
     "metadata": {},
     "output_type": "execute_result"
    }
   ],
   "source": [
    "names = [\"kerry\", \"dickson\", \"John\", \"Mary\", \n",
    " \"carol\", \"Rose\", \"adam\"]\n",
    "\n",
    "def check_lower(names):\n",
    "    #check if name is in lower case and store in a list\n",
    "    new_names = [name for name in names if name.islower()]  \n",
    "    #convert list to () tuple and return\n",
    "    return tuple(new_names)\n",
    "\n",
    "check_lower(names)"
   ]
  }
 ],
 "metadata": {
  "kernelspec": {
   "display_name": "Python 3.10.5 64-bit",
   "language": "python",
   "name": "python3"
  },
  "language_info": {
   "codemirror_mode": {
    "name": "ipython",
    "version": 3
   },
   "file_extension": ".py",
   "mimetype": "text/x-python",
   "name": "python",
   "nbconvert_exporter": "python",
   "pygments_lexer": "ipython3",
   "version": "3.10.5"
  },
  "orig_nbformat": 4,
  "vscode": {
   "interpreter": {
    "hash": "a9cff5a362bc38ef45d817ae74b1af54d6a076e3d773891282bce078b815ba34"
   }
  }
 },
 "nbformat": 4,
 "nbformat_minor": 2
}
