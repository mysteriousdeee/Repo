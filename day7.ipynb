{
 "cells": [
  {
   "cell_type": "markdown",
   "metadata": {},
   "source": [
    "Write a function called string_range that takes a single \n",
    "number and returns a string of its range. The string characters \n",
    "should be separated by dots(.) For example, if you pass 6 as \n",
    "an argument, your function should return ‘0.1.2.3.4.5’."
   ]
  },
  {
   "cell_type": "code",
   "execution_count": null,
   "metadata": {},
   "outputs": [],
   "source": [
    "def string_range():\n",
    "\n",
    "    #takes just the first character from user input\n",
    "    input_number = int(input(\"Enter a single character: \")[0])\n",
    "    a = []\n",
    "\n",
    "    #iterate over the number with range\n",
    "    for i in range(input_number):\n",
    "        #append each number to a list \n",
    "        a.append(i)\n",
    "        #create a delimiter between each of the string in list a\n",
    "        b = '.'.join(map(str,a))\n",
    "    return b\n",
    "string_range()"
   ]
  },
  {
   "cell_type": "markdown",
   "metadata": {},
   "source": [
    "You are given a list of names, and you are asked to write a code \n",
    "that returns all the names that start with ‘S’. Your code should \n",
    "return a dictionary of all the names that start with S and how \n",
    "many times they appear in the dictionary. Here is a list below:\n",
    "names = [\"Joseph\",\"Nathan\", \"Sasha\", \"Kelly\",\"Muhammad\", \"Jabulani\", \"Sera\", \"Patel\", \"Sera\"]\n",
    "Your code should return: {“Sasha”: 1, “Sera”: 2}"
   ]
  },
  {
   "cell_type": "code",
   "execution_count": 18,
   "metadata": {},
   "outputs": [
    {
     "data": {
      "text/plain": [
       "Counter({'Sasha': 1, 'Sera': 2})"
      ]
     },
     "execution_count": 18,
     "metadata": {},
     "output_type": "execute_result"
    }
   ],
   "source": [
    "from collections import Counter\n",
    "names = [\"Joseph\",\"Nathan\", \"Sasha\", \"Kelly\",\"Muhammad\", \"Jabulani\", \"Sera\", \"Patel\", \"Sera\"]\n",
    "letter = 'S'\n",
    "def execute(names):\n",
    "    names_S = [x for x in names if x.lower().startswith(letter.lower())]\n",
    "    words = Counter(names_S)\n",
    "    return words\n",
    "execute(names)"
   ]
  }
 ],
 "metadata": {
  "kernelspec": {
   "display_name": "Python 3.10.5 64-bit",
   "language": "python",
   "name": "python3"
  },
  "language_info": {
   "codemirror_mode": {
    "name": "ipython",
    "version": 3
   },
   "file_extension": ".py",
   "mimetype": "text/x-python",
   "name": "python",
   "nbconvert_exporter": "python",
   "pygments_lexer": "ipython3",
   "version": "3.10.5"
  },
  "orig_nbformat": 4,
  "vscode": {
   "interpreter": {
    "hash": "a9cff5a362bc38ef45d817ae74b1af54d6a076e3d773891282bce078b815ba34"
   }
  }
 },
 "nbformat": 4,
 "nbformat_minor": 2
}
