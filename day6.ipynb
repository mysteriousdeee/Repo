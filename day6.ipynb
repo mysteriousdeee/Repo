{
 "cells": [
  {
   "cell_type": "markdown",
   "metadata": {},
   "source": [
    "Write a function called user_name that generates a username \n",
    "from the user’s email. The code should ask the user to input an \n",
    "email and the code should return everything before the @ sign \n",
    "as their user name. For example, if someone enters \n",
    "ben@gmail.com, the code should return ben as their user \n",
    "name.\n"
   ]
  },
  {
   "cell_type": "code",
   "execution_count": null,
   "metadata": {},
   "outputs": [],
   "source": [
    "def user_name():\n",
    "    email_addy = input(\"enter your email: \")\n",
    "\n",
    "    #takes the user input, strips everything before the defined delimter \"@\"\n",
    "    user_name = email_addy[:email_addy.index('@')]\n",
    "    return user_name\n",
    "user_name()"
   ]
  },
  {
   "cell_type": "markdown",
   "metadata": {},
   "source": [
    "Write a function called zeroed code that takes a list of numbers \n",
    "as an argument. The code should zero (0) the first and the last \n",
    "number in the list. For example, if the input is [2, 5, 7, 8, 9],\n",
    "your code should return [0, 5, 7, 8, 0]"
   ]
  },
  {
   "cell_type": "code",
   "execution_count": 9,
   "metadata": {},
   "outputs": [
    {
     "data": {
      "text/plain": [
       "[0, 5, 7, 8, 0]"
      ]
     },
     "execution_count": 9,
     "metadata": {},
     "output_type": "execute_result"
    }
   ],
   "source": [
    "def zeroed(numbers):\n",
    "\n",
    "    #references the beginning of the list and the tail element of the list and set them as 0\n",
    "    numbers[::len(numbers)-1] = [0,0]\n",
    "    return numbers\n",
    "lists = [2, 5, 7, 8, 9]\n",
    "zeroed(lists)"
   ]
  }
 ],
 "metadata": {
  "kernelspec": {
   "display_name": "Python 3.10.5 64-bit",
   "language": "python",
   "name": "python3"
  },
  "language_info": {
   "codemirror_mode": {
    "name": "ipython",
    "version": 3
   },
   "file_extension": ".py",
   "mimetype": "text/x-python",
   "name": "python",
   "nbconvert_exporter": "python",
   "pygments_lexer": "ipython3",
   "version": "3.10.5"
  },
  "orig_nbformat": 4,
  "vscode": {
   "interpreter": {
    "hash": "a9cff5a362bc38ef45d817ae74b1af54d6a076e3d773891282bce078b815ba34"
   }
  }
 },
 "nbformat": 4,
 "nbformat_minor": 2
}
